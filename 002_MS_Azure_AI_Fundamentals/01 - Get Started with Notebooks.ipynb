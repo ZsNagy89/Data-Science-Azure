{
  "cells": [
    {
      "cell_type": "markdown",
      "metadata": {},
      "source": [
        "# Get Started with Notebooks in Azure Machine Learning\n",
        "\n",
        "Azure Machine Learning is a cloud-based service for creating and managing machine learning solutions. It's designed to help data scientists and machine learning engineers leverage their existing data processing and model development skills and frameworks, and scale their workloads to the cloud.\n",
        "\n",
        "A lot of data science and machine learning work is accomplished in notebooks like this one. Notebooks consist of *cells*, some of which (like the one containing this text) are used for notes, graphics, and other content  usually written using *markdown*; while others (like the cell below this one) contain code that you can run interactively within the notebook.\n",
        "\n",
        "## The Azure Machine Learning Python SDK\n",
        "\n",
        "You can run pretty much any Python code in a notebook, provided the required Python packages are installed in the environment where you're running it. In this case, you're running the notebook in a *Conda* environment on an Azure Machine Learning compute instance. This environment is installed in the compute instance by default, and contains common Python packages that data scientists typically work with. It also includes the Azure Machine Learning Python SDK, which is a Python package that enables you to write code that uses resources in your Azure Machine Learning workspace.\n",
        "\n",
        "Run the cell below to import the **azureml-core** package and checking the version of the SDK that is installed."
      ]
    },
    {
      "cell_type": "code",
      "execution_count": null,
      "metadata": {
        "gather": {
          "logged": 1649344943458
        }
      },
      "outputs": [],
      "source": [
        "import azureml.core\n",
        "\n",
        "print(\"Ready to use Azure ML\", azureml.core.VERSION)"
      ]
    },
    {
      "cell_type": "markdown",
      "metadata": {},
      "source": [
        "## Connect to your existing workspace witk config.json\n",
        "\n",
        "All experiments and associated resources are managed within your Azure Machine Learning workspace. You can connect to an existing workspace, or create a new one using the Azure Machine Learning SDK.\n",
        "\n",
        "In most cases, you should store workspace connection information in a JSON configuration file. This makes it easier to connect without needing to remember details like your Azure subscription ID. You can download the JSON configuration file from the blade for your workspace in the Azure portal or from the workspace details pane in Azure Machine Learning studio, but if you're using a compute instance within your workspace, the configuration file has already been downloaded to the root folder.\n",
        "\n",
        "The code below uses the configuration file to connect to your workspace.\n",
        "\n",
        "> **Note**: The first time you connect to your workspace in a notebook session, you may be prompted to sign into Azure by clicking the `https://microsoft.com/devicelogin` link,  entering an automatically generated code, and signing into Azure. After you have successfully signed in, you can close the browser tab that was opened and return to this notebook."
      ]
    },
    {
      "cell_type": "code",
      "execution_count": null,
      "metadata": {
        "gather": {
          "logged": 1649344982702
        }
      },
      "outputs": [],
      "source": [
        "from azureml.core import Workspace\n",
        "\n",
        "ws = Workspace.from_config()\n",
        "print(ws.name, \"loaded\")"
      ]
    },
    {
      "cell_type": "markdown",
      "metadata": {},
      "source": [
        "## View Azure Machine Learning resources in the workspace\n",
        "\n",
        "Now that you have a connection to your workspace, you can work with the resources. For example, you can use the following code to enumerate the compute resources in your workspace."
      ]
    },
    {
      "cell_type": "code",
      "execution_count": null,
      "metadata": {
        "gather": {
          "logged": 1649344958183
        }
      },
      "outputs": [],
      "source": [
        "print(\"Compute Resources:\")\n",
        "for compute_name in ws.compute_targets:\n",
        "    compute = ws.compute_targets[compute_name]\n",
        "    print(\"\\t\", compute.name, ':', compute.type)"
      ]
    },
    {
      "cell_type": "markdown",
      "metadata": {},
      "source": [
        "When you've finished exploring this notebook, you can save any changes you have made and close it."
      ]
    },
    {
      "cell_type": "markdown",
      "metadata": {},
      "source": [
        "## Create a workspace from scratch\n",
        "You can create aa workspace with the .create() method. You do not need any config parameter to that."
      ]
    },
    {
      "cell_type": "code",
      "execution_count": null,
      "metadata": {},
      "outputs": [],
      "source": [
        "ws2 = Workspace.create(\n",
        "    name= \"MLWS02\",\n",
        "    subscription_id=\"e3712780-5bd1-4eb0-a83a-cbc30cfb16f2\",\n",
        "    resource_group='Test',\n",
        "    create_resource_group=True,\n",
        "    location='eastus'\n",
        ")"
      ]
    },
    {
      "cell_type": "code",
      "execution_count": null,
      "metadata": {},
      "outputs": [],
      "source": [
        "ws3 = Workspace.create(\n",
        "    name= \"MLWS03\",\n",
        "    subscription_id=\"e3712780-5bd1-4eb0-a83a-cbc30cfb16f2\",\n",
        "    resource_group='Test02',\n",
        "    create_resource_group=True,\n",
        "    location='eastus'\n",
        ")"
      ]
    },
    {
      "cell_type": "markdown",
      "metadata": {},
      "source": [
        "## Connect to a Workspace with explicit parameters"
      ]
    },
    {
      "cell_type": "code",
      "execution_count": null,
      "metadata": {},
      "outputs": [],
      "source": [
        "ws4 = Workspace.get(\n",
        "    name='MLWS03',\n",
        "    subscription_id='e3712780-5bd1-4eb0-a83a-cbc30cfb16f2',\n",
        "    resource_group='Test02'\n",
        ")\n",
        "print(ws4.name, \"has been connected!\")"
      ]
    },
    {
      "cell_type": "markdown",
      "metadata": {},
      "source": [
        "## Delete Workspace\n",
        "\n",
        "Use .delete() method with the delete-dependent-resources=True parameter."
      ]
    },
    {
      "cell_type": "code",
      "execution_count": null,
      "metadata": {},
      "outputs": [],
      "source": [
        "ws4.delete(delete_dependent_resources=True)"
      ]
    },
    {
      "cell_type": "markdown",
      "metadata": {},
      "source": [
        "## Workspace with CLI\n",
        "\n",
        "You can create a workspace with CLI:\n",
        "- az ml workspace create -w 'workspace-name' -g 'resource-group-name'"
      ]
    }
  ],
  "metadata": {
    "kernel_info": {
      "name": "python38-azureml"
    },
    "kernelspec": {
      "display_name": "Python 3.9.13 ('ds_az_env': venv)",
      "language": "python",
      "name": "python3"
    },
    "language_info": {
      "codemirror_mode": {
        "name": "ipython",
        "version": 3
      },
      "file_extension": ".py",
      "mimetype": "text/x-python",
      "name": "python",
      "nbconvert_exporter": "python",
      "pygments_lexer": "ipython3",
      "version": "3.9.13"
    },
    "microsoft": {
      "host": {
        "AzureML": {
          "notebookHasBeenCompleted": true
        }
      }
    },
    "nteract": {
      "version": "nteract-front-end@1.0.0"
    },
    "vscode": {
      "interpreter": {
        "hash": "6c33379db505483cde4ea8458e8615fdd084be1c3f7749a47fc469f0b94ec7af"
      }
    }
  },
  "nbformat": 4,
  "nbformat_minor": 0
}
